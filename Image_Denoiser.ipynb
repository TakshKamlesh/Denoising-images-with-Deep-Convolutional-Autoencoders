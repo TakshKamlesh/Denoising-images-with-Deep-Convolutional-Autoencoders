{
  "nbformat": 4,
  "nbformat_minor": 0,
  "metadata": {
    "colab": {
      "name": "Image Denoiser",
      "version": "0.3.2",
      "provenance": []
    },
    "kernelspec": {
      "name": "python3",
      "display_name": "Python 3"
    },
    "accelerator": "GPU"
  },
  "cells": [
    {
      "metadata": {
        "id": "TWgVq1giT0eR",
        "colab_type": "code",
        "outputId": "d26fbb5f-8cab-4018-d41f-9b50c657ce83",
        "colab": {
          "base_uri": "https://localhost:8080/",
          "height": 34
        }
      },
      "cell_type": "code",
      "source": [
        "from keras.layers import Input, Dense, Conv2D, MaxPooling2D, UpSampling2D\n",
        "from keras.models import Model, Sequential\n",
        "from keras import backend as K\n",
        "from keras.datasets import mnist\n",
        "import numpy as np\n",
        "import matplotlib.pyplot as plt"
      ],
      "execution_count": 0,
      "outputs": [
        {
          "output_type": "stream",
          "text": [
            "Using TensorFlow backend.\n"
          ],
          "name": "stderr"
        }
      ]
    },
    {
      "metadata": {
        "id": "eA_J3NzvU020",
        "colab_type": "code",
        "colab": {}
      },
      "cell_type": "code",
      "source": [
        "(x_train, _), (x_test, _) = mnist.load_data()\n",
        "\n",
        "x_train = x_train.astype('float32') / 255.\n",
        "x_test = x_test.astype('float32') / 255.\n",
        "x_train = np.reshape(x_train, (len(x_train), 28, 28, 1))  # adapt this if using `channels_first` image data format\n",
        "x_test = np.reshape(x_test, (len(x_test), 28, 28, 1))  # adapt this if using `channels_first` image data format\n",
        "\n",
        "noise_factor = 0.5\n",
        "x_train_noisy = x_train + noise_factor * np.random.normal(loc=0.0, scale=1.0, size=x_train.shape) \n",
        "x_test_noisy = x_test + noise_factor * np.random.normal(loc=0.0, scale=1.0, size=x_test.shape) \n",
        "\n",
        "x_train_noisy = np.clip(x_train_noisy, 0., 1.)\n",
        "x_test_noisy = np.clip(x_test_noisy, 0., 1.)"
      ],
      "execution_count": 0,
      "outputs": []
    },
    {
      "metadata": {
        "id": "-giLQ3KFVEIi",
        "colab_type": "code",
        "outputId": "ab8d28b9-c4ad-469e-9985-a6cb246b7c7c",
        "colab": {
          "base_uri": "https://localhost:8080/",
          "height": 286
        }
      },
      "cell_type": "code",
      "source": [
        "plt.imshow(np.reshape(x_test_noisy[0], (28,28)))"
      ],
      "execution_count": 0,
      "outputs": [
        {
          "output_type": "execute_result",
          "data": {
            "text/plain": [
              "<matplotlib.image.AxesImage at 0x7f66153c2860>"
            ]
          },
          "metadata": {
            "tags": []
          },
          "execution_count": 8
        },
        {
          "output_type": "display_data",
          "data": {
            "image/png": "[encoded data removed]",
            "text/plain": [
              "<Figure size 432x288 with 1 Axes>"
            ]
          },
          "metadata": {
            "tags": []
          }
        }
      ]
    },
    {
      "metadata": {
        "id": "eQYgtXDhT9Dn",
        "colab_type": "code",
        "outputId": "59fad432-b8d0-4894-d939-14e6a96ae8aa",
        "colab": {
          "base_uri": "https://localhost:8080/",
          "height": 88
        }
      },
      "cell_type": "code",
      "source": [
        "input_img = Input(shape=(28, 28, 1))\n",
        "x = Conv2D(32, (3, 3), activation='relu', padding='same')(input_img)\n",
        "x = MaxPooling2D((2, 2), padding='same')(x)\n",
        "x = Conv2D(32, (3, 3), activation='relu', padding='same')(x)\n",
        "encoded = MaxPooling2D((2, 2), padding='same')(x)\n",
        "x = Conv2D(32, (3, 3), activation='relu', padding='same')(encoded)\n",
        "x = UpSampling2D((2, 2))(x)\n",
        "x = Conv2D(32, (3, 3), activation='relu', padding='same')(x)\n",
        "x = UpSampling2D((2, 2))(x)\n",
        "decoded = Conv2D(1, (3, 3), activation='sigmoid', padding='same')(x) \n",
        "autoencoder = Model(input_img, decoded)\n",
        "autoencoder.compile(optimizer='adadelta', loss='binary_crossentropy')"
      ],
      "execution_count": 0,
      "outputs": [
        {
          "output_type": "stream",
          "text": [
            "WARNING:tensorflow:From /usr/local/lib/python3.6/dist-packages/tensorflow/python/framework/op_def_library.py:263: colocate_with (from tensorflow.python.framework.ops) is deprecated and will be removed in a future version.\n",
            "Instructions for updating:\n",
            "Colocations handled automatically by placer.\n"
          ],
          "name": "stdout"
        }
      ]
    },
    {
      "metadata": {
        "id": "IzUuFHqAUP77",
        "colab_type": "code",
        "outputId": "a315269c-2569-49c3-a2c9-c202972a599b",
        "colab": {
          "base_uri": "https://localhost:8080/",
          "height": 3522
        }
      },
      "cell_type": "code",
      "source": [
        "autoencoder.fit(x_train_noisy, x_train,\n",
        "                epochs=100,\n",
        "                batch_size=128,\n",
        "                shuffle=True,\n",
        "                validation_data=(x_test_noisy, x_test),\n",
        "           )"
      ],
      "execution_count": 0,
      "outputs": [
        {
          "output_type": "stream",
          "text": [
            "WARNING:tensorflow:From /usr/local/lib/python3.6/dist-packages/tensorflow/python/ops/math_ops.py:3066: to_int32 (from tensorflow.python.ops.math_ops) is deprecated and will be removed in a future version.\n",
            "Instructions for updating:\n",
            "Use tf.cast instead.\n",
            "Train on 60000 samples, validate on 10000 samples\n",
            "Epoch 1/100\n",
            "60000/60000 [==============================] - 9s 145us/step - loss: 0.1785 - val_loss: 0.1240\n",
            "Epoch 2/100\n",
            "60000/60000 [==============================] - 7s 119us/step - loss: 0.1204 - val_loss: 0.1193\n",
            "Epoch 3/100\n",
            "60000/60000 [==============================] - 7s 119us/step - loss: 0.1126 - val_loss: 0.1098\n",
            "Epoch 4/100\n",
            "60000/60000 [==============================] - 7s 119us/step - loss: 0.1085 - val_loss: 0.1046\n",
            "Epoch 5/100\n",
            "60000/60000 [==============================] - 7s 119us/step - loss: 0.1058 - val_loss: 0.1043\n",
            "Epoch 6/100\n",
            "60000/60000 [==============================] - 7s 119us/step - loss: 0.1043 - val_loss: 0.1049\n",
            "Epoch 7/100\n",
            "60000/60000 [==============================] - 7s 119us/step - loss: 0.1032 - val_loss: 0.1003\n",
            "Epoch 8/100\n",
            "60000/60000 [==============================] - 7s 119us/step - loss: 0.1021 - val_loss: 0.1027\n",
            "Epoch 9/100\n",
            "60000/60000 [==============================] - 7s 119us/step - loss: 0.1015 - val_loss: 0.1000\n",
            "Epoch 10/100\n",
            "60000/60000 [==============================] - 7s 119us/step - loss: 0.1011 - val_loss: 0.0998\n",
            "Epoch 11/100\n",
            "60000/60000 [==============================] - 7s 119us/step - loss: 0.1004 - val_loss: 0.0993\n",
            "Epoch 12/100\n",
            "60000/60000 [==============================] - 7s 119us/step - loss: 0.1002 - val_loss: 0.0983\n",
            "Epoch 13/100\n",
            "60000/60000 [==============================] - 7s 119us/step - loss: 0.0998 - val_loss: 0.0992\n",
            "Epoch 14/100\n",
            "60000/60000 [==============================] - 7s 120us/step - loss: 0.0994 - val_loss: 0.0982\n",
            "Epoch 15/100\n",
            "60000/60000 [==============================] - 7s 119us/step - loss: 0.0991 - val_loss: 0.0981\n",
            "Epoch 16/100\n",
            "60000/60000 [==============================] - 7s 119us/step - loss: 0.0988 - val_loss: 0.0978\n",
            "Epoch 17/100\n",
            "60000/60000 [==============================] - 7s 120us/step - loss: 0.0984 - val_loss: 0.0976\n",
            "Epoch 18/100\n",
            "60000/60000 [==============================] - 7s 122us/step - loss: 0.0983 - val_loss: 0.0983\n",
            "Epoch 19/100\n",
            "60000/60000 [==============================] - 7s 119us/step - loss: 0.0982 - val_loss: 0.0967\n",
            "Epoch 20/100\n",
            "60000/60000 [==============================] - 7s 119us/step - loss: 0.0980 - val_loss: 0.0973\n",
            "Epoch 21/100\n",
            "60000/60000 [==============================] - 7s 119us/step - loss: 0.0977 - val_loss: 0.0964\n",
            "Epoch 22/100\n",
            "60000/60000 [==============================] - 7s 120us/step - loss: 0.0976 - val_loss: 0.0968\n",
            "Epoch 23/100\n",
            "60000/60000 [==============================] - 7s 120us/step - loss: 0.0974 - val_loss: 0.0978\n",
            "Epoch 24/100\n",
            "60000/60000 [==============================] - 7s 120us/step - loss: 0.0973 - val_loss: 0.0970\n",
            "Epoch 25/100\n",
            "60000/60000 [==============================] - 7s 119us/step - loss: 0.0971 - val_loss: 0.0959\n",
            "Epoch 26/100\n",
            "60000/60000 [==============================] - 7s 119us/step - loss: 0.0971 - val_loss: 0.0963\n",
            "Epoch 27/100\n",
            "60000/60000 [==============================] - 7s 119us/step - loss: 0.0970 - val_loss: 0.0960\n",
            "Epoch 28/100\n",
            "60000/60000 [==============================] - 7s 119us/step - loss: 0.0969 - val_loss: 0.0960\n",
            "Epoch 29/100\n",
            "60000/60000 [==============================] - 7s 119us/step - loss: 0.0966 - val_loss: 0.0955\n",
            "Epoch 30/100\n",
            "60000/60000 [==============================] - 7s 119us/step - loss: 0.0966 - val_loss: 0.0971\n",
            "Epoch 31/100\n",
            "60000/60000 [==============================] - 7s 119us/step - loss: 0.0966 - val_loss: 0.0956\n",
            "Epoch 32/100\n",
            "60000/60000 [==============================] - 7s 119us/step - loss: 0.0964 - val_loss: 0.0958\n",
            "Epoch 33/100\n",
            "60000/60000 [==============================] - 7s 119us/step - loss: 0.0964 - val_loss: 0.0954\n",
            "Epoch 34/100\n",
            "60000/60000 [==============================] - 7s 119us/step - loss: 0.0962 - val_loss: 0.0957\n",
            "Epoch 35/100\n",
            "60000/60000 [==============================] - 7s 119us/step - loss: 0.0963 - val_loss: 0.0956\n",
            "Epoch 36/100\n",
            "60000/60000 [==============================] - 7s 120us/step - loss: 0.0961 - val_loss: 0.0951\n",
            "Epoch 37/100\n",
            "60000/60000 [==============================] - 7s 119us/step - loss: 0.0960 - val_loss: 0.0962\n",
            "Epoch 38/100\n",
            "60000/60000 [==============================] - 7s 120us/step - loss: 0.0961 - val_loss: 0.0963\n",
            "Epoch 39/100\n",
            "60000/60000 [==============================] - 7s 119us/step - loss: 0.0960 - val_loss: 0.0954\n",
            "Epoch 40/100\n",
            "60000/60000 [==============================] - 7s 119us/step - loss: 0.0959 - val_loss: 0.0956\n",
            "Epoch 41/100\n",
            "60000/60000 [==============================] - 7s 119us/step - loss: 0.0958 - val_loss: 0.0949\n",
            "Epoch 42/100\n",
            "60000/60000 [==============================] - 7s 119us/step - loss: 0.0957 - val_loss: 0.0949\n",
            "Epoch 43/100\n",
            "60000/60000 [==============================] - 7s 119us/step - loss: 0.0956 - val_loss: 0.0958\n",
            "Epoch 44/100\n",
            "60000/60000 [==============================] - 7s 119us/step - loss: 0.0957 - val_loss: 0.0948\n",
            "Epoch 45/100\n",
            "60000/60000 [==============================] - 7s 120us/step - loss: 0.0956 - val_loss: 0.0963\n",
            "Epoch 46/100\n",
            "60000/60000 [==============================] - 7s 119us/step - loss: 0.0956 - val_loss: 0.0961\n",
            "Epoch 47/100\n",
            "60000/60000 [==============================] - 7s 119us/step - loss: 0.0955 - val_loss: 0.0947\n",
            "Epoch 48/100\n",
            "60000/60000 [==============================] - 7s 120us/step - loss: 0.0954 - val_loss: 0.0947\n",
            "Epoch 49/100\n",
            "60000/60000 [==============================] - 7s 120us/step - loss: 0.0954 - val_loss: 0.0946\n",
            "Epoch 50/100\n",
            "60000/60000 [==============================] - 7s 120us/step - loss: 0.0954 - val_loss: 0.0946\n",
            "Epoch 51/100\n",
            "60000/60000 [==============================] - 7s 119us/step - loss: 0.0954 - val_loss: 0.0951\n",
            "Epoch 52/100\n",
            "60000/60000 [==============================] - 7s 120us/step - loss: 0.0954 - val_loss: 0.0945\n",
            "Epoch 53/100\n",
            "60000/60000 [==============================] - 7s 119us/step - loss: 0.0952 - val_loss: 0.0947\n",
            "Epoch 54/100\n",
            "60000/60000 [==============================] - 7s 119us/step - loss: 0.0951 - val_loss: 0.0947\n",
            "Epoch 55/100\n",
            "60000/60000 [==============================] - 7s 120us/step - loss: 0.0952 - val_loss: 0.0947\n",
            "Epoch 56/100\n",
            "60000/60000 [==============================] - 7s 119us/step - loss: 0.0952 - val_loss: 0.0948\n",
            "Epoch 57/100\n",
            "60000/60000 [==============================] - 7s 120us/step - loss: 0.0951 - val_loss: 0.0944\n",
            "Epoch 58/100\n",
            "60000/60000 [==============================] - 7s 119us/step - loss: 0.0950 - val_loss: 0.0945\n",
            "Epoch 59/100\n",
            "60000/60000 [==============================] - 7s 119us/step - loss: 0.0951 - val_loss: 0.0944\n",
            "Epoch 60/100\n",
            "60000/60000 [==============================] - 7s 119us/step - loss: 0.0950 - val_loss: 0.0947\n",
            "Epoch 61/100\n",
            "60000/60000 [==============================] - 7s 119us/step - loss: 0.0949 - val_loss: 0.0943\n",
            "Epoch 62/100\n",
            "60000/60000 [==============================] - 7s 119us/step - loss: 0.0950 - val_loss: 0.0943\n",
            "Epoch 63/100\n",
            "60000/60000 [==============================] - 7s 119us/step - loss: 0.0950 - val_loss: 0.0952\n",
            "Epoch 64/100\n",
            "60000/60000 [==============================] - 7s 119us/step - loss: 0.0950 - val_loss: 0.0947\n",
            "Epoch 65/100\n",
            "60000/60000 [==============================] - 7s 119us/step - loss: 0.0949 - val_loss: 0.0943\n",
            "Epoch 66/100\n",
            "60000/60000 [==============================] - 7s 119us/step - loss: 0.0949 - val_loss: 0.0949\n",
            "Epoch 67/100\n",
            "60000/60000 [==============================] - 7s 119us/step - loss: 0.0949 - val_loss: 0.0942\n",
            "Epoch 68/100\n",
            "60000/60000 [==============================] - 7s 119us/step - loss: 0.0947 - val_loss: 0.0943\n",
            "Epoch 69/100\n",
            "60000/60000 [==============================] - 7s 119us/step - loss: 0.0948 - val_loss: 0.0952\n",
            "Epoch 70/100\n",
            "60000/60000 [==============================] - 7s 119us/step - loss: 0.0948 - val_loss: 0.0940\n",
            "Epoch 71/100\n",
            "60000/60000 [==============================] - 7s 119us/step - loss: 0.0948 - val_loss: 0.0940\n",
            "Epoch 72/100\n",
            "60000/60000 [==============================] - 7s 120us/step - loss: 0.0947 - val_loss: 0.0940\n",
            "Epoch 73/100\n",
            "60000/60000 [==============================] - 7s 119us/step - loss: 0.0946 - val_loss: 0.0942\n",
            "Epoch 74/100\n",
            "60000/60000 [==============================] - 7s 119us/step - loss: 0.0946 - val_loss: 0.0944\n",
            "Epoch 75/100\n",
            "60000/60000 [==============================] - 7s 119us/step - loss: 0.0946 - val_loss: 0.0947\n",
            "Epoch 76/100\n",
            "60000/60000 [==============================] - 7s 119us/step - loss: 0.0946 - val_loss: 0.0946\n",
            "Epoch 77/100\n",
            "60000/60000 [==============================] - 7s 119us/step - loss: 0.0946 - val_loss: 0.0942\n",
            "Epoch 78/100\n",
            "60000/60000 [==============================] - 7s 119us/step - loss: 0.0946 - val_loss: 0.0941\n",
            "Epoch 79/100\n",
            "60000/60000 [==============================] - 7s 119us/step - loss: 0.0946 - val_loss: 0.0940\n",
            "Epoch 80/100\n",
            "60000/60000 [==============================] - 7s 119us/step - loss: 0.0945 - val_loss: 0.0943\n",
            "Epoch 81/100\n",
            "60000/60000 [==============================] - 7s 119us/step - loss: 0.0945 - val_loss: 0.0944\n",
            "Epoch 82/100\n",
            "60000/60000 [==============================] - 7s 119us/step - loss: 0.0945 - val_loss: 0.0942\n",
            "Epoch 83/100\n",
            "60000/60000 [==============================] - 7s 120us/step - loss: 0.0944 - val_loss: 0.0941\n",
            "Epoch 84/100\n",
            "60000/60000 [==============================] - 7s 119us/step - loss: 0.0945 - val_loss: 0.0939\n",
            "Epoch 85/100\n",
            "60000/60000 [==============================] - 7s 119us/step - loss: 0.0944 - val_loss: 0.0938\n",
            "Epoch 86/100\n",
            "60000/60000 [==============================] - 7s 119us/step - loss: 0.0943 - val_loss: 0.0939\n",
            "Epoch 87/100\n",
            "60000/60000 [==============================] - 7s 119us/step - loss: 0.0944 - val_loss: 0.0940\n",
            "Epoch 88/100\n",
            "60000/60000 [==============================] - 7s 119us/step - loss: 0.0944 - val_loss: 0.0939\n",
            "Epoch 89/100\n",
            "60000/60000 [==============================] - 7s 120us/step - loss: 0.0944 - val_loss: 0.0950\n",
            "Epoch 90/100\n",
            "60000/60000 [==============================] - 7s 120us/step - loss: 0.0943 - val_loss: 0.0937\n",
            "Epoch 91/100\n",
            "60000/60000 [==============================] - 7s 120us/step - loss: 0.0943 - val_loss: 0.0942\n",
            "Epoch 92/100\n",
            "60000/60000 [==============================] - 7s 119us/step - loss: 0.0943 - val_loss: 0.0947\n",
            "Epoch 93/100\n",
            "60000/60000 [==============================] - 7s 119us/step - loss: 0.0943 - val_loss: 0.0943\n",
            "Epoch 94/100\n",
            "60000/60000 [==============================] - 7s 119us/step - loss: 0.0942 - val_loss: 0.0942\n",
            "Epoch 95/100\n",
            "60000/60000 [==============================] - 7s 119us/step - loss: 0.0943 - val_loss: 0.0938\n",
            "Epoch 96/100\n",
            "60000/60000 [==============================] - 7s 119us/step - loss: 0.0942 - val_loss: 0.0938\n",
            "Epoch 97/100\n",
            "60000/60000 [==============================] - 7s 119us/step - loss: 0.0942 - val_loss: 0.0953\n",
            "Epoch 98/100\n",
            "60000/60000 [==============================] - 7s 119us/step - loss: 0.0942 - val_loss: 0.0940\n",
            "Epoch 99/100\n",
            "60000/60000 [==============================] - 7s 119us/step - loss: 0.0941 - val_loss: 0.0940\n",
            "Epoch 100/100\n",
            "60000/60000 [==============================] - 7s 119us/step - loss: 0.0942 - val_loss: 0.0948\n"
          ],
          "name": "stdout"
        },
        {
          "output_type": "execute_result",
          "data": {
            "text/plain": [
              "<keras.callbacks.History at 0x7f66153c2e48>"
            ]
          },
          "metadata": {
            "tags": []
          },
          "execution_count": 10
        }
      ]
    },
    {
      "metadata": {
        "id": "Ap6taOaJUgd_",
        "colab_type": "code",
        "colab": {}
      },
      "cell_type": "code",
      "source": [
        "pred = autoencoder.predict(x_test)"
      ],
      "execution_count": 0,
      "outputs": []
    },
    {
      "metadata": {
        "id": "1u2etr0CUi7A",
        "colab_type": "code",
        "outputId": "0225a793-6771-4f55-97af-4c3c370eb32e",
        "colab": {
          "base_uri": "https://localhost:8080/",
          "height": 286
        }
      },
      "cell_type": "code",
      "source": [
        "plt.imshow(np.reshape(pred[0],(28,28)))"
      ],
      "execution_count": 0,
      "outputs": [
        {
          "output_type": "execute_result",
          "data": {
            "text/plain": [
              "<matplotlib.image.AxesImage at 0x7f65c1c2cba8>"
            ]
          },
          "metadata": {
            "tags": []
          },
          "execution_count": 13
        },
        {
          "output_type": "display_data",
          "data": {
            "image/png": "[encoded data removed]",
            "text/plain": [
              "<Figure size 432x288 with 1 Axes>"
            ]
          },
          "metadata": {
            "tags": []
          }
        }
      ]
    },
    {
      "metadata": {
        "id": "5PgjOSa3apXx",
        "colab_type": "code",
        "outputId": "8928c01d-d18b-48e8-dcd5-f06cae82806a",
        "colab": {
          "base_uri": "https://localhost:8080/",
          "height": 286
        }
      },
      "cell_type": "code",
      "source": [
        "plt.imshow(np.reshape(x_test_noisy[0], (28,28)))"
      ],
      "execution_count": 0,
      "outputs": [
        {
          "output_type": "execute_result",
          "data": {
            "text/plain": [
              "<matplotlib.image.AxesImage at 0x7f65c138c2e8>"
            ]
          },
          "metadata": {
            "tags": []
          },
          "execution_count": 16
        },
        {
          "output_type": "display_data",
          "data": {
            "image/png": "[encoded data removed]",
            "text/plain": [
              "<Figure size 432x288 with 1 Axes>"
            ]
          },
          "metadata": {
            "tags": []
          }
        }
      ]
    },
    {
      "metadata": {
        "id": "Ll6G3kujaxWT",
        "colab_type": "code",
        "outputId": "70c936da-512c-424b-ef53-49b068f2740f",
        "colab": {
          "base_uri": "https://localhost:8080/",
          "height": 286
        }
      },
      "cell_type": "code",
      "source": [
        "plt.imshow(np.reshape(x_test[0], (28,28)))"
      ],
      "execution_count": 0,
      "outputs": [
        {
          "output_type": "execute_result",
          "data": {
            "text/plain": [
              "<matplotlib.image.AxesImage at 0x7f65c135c780>"
            ]
          },
          "metadata": {
            "tags": []
          },
          "execution_count": 17
        },
        {
          "output_type": "display_data",
          "data": {
            "image/png": "[encoded data removed]",
            "text/plain": [
              "<Figure size 432x288 with 1 Axes>"
            ]
          },
          "metadata": {
            "tags": []
          }
        }
      ]
    },
    {
      "metadata": {
        "id": "VkSHvYQ7a-Vh",
        "colab_type": "code",
        "colab": {}
      },
      "cell_type": "code",
      "source": [
        "autoencoder.save('denoizer.h5')"
      ],
      "execution_count": 0,
      "outputs": []
    },
    {
      "metadata": {
        "id": "suHslOYobO7L",
        "colab_type": "code",
        "colab": {}
      },
      "cell_type": "code",
      "source": [
        "from google.colab import files"
      ],
      "execution_count": 0,
      "outputs": []
    },
    {
      "metadata": {
        "id": "0xZjpT9BbcPG",
        "colab_type": "code",
        "colab": {}
      },
      "cell_type": "code",
      "source": [
        "files.download('denoizer.h5')"
      ],
      "execution_count": 0,
      "outputs": []
    },
    {
      "metadata": {
        "id": "jDncw4A4bfMh",
        "colab_type": "code",
        "outputId": "75f400e4-0349-46ea-b54c-27827feb7081",
        "colab": {
          "base_uri": "https://localhost:8080/",
          "height": 34
        }
      },
      "cell_type": "code",
      "source": [
        "x_test[0].shape"
      ],
      "execution_count": 0,
      "outputs": [
        {
          "output_type": "execute_result",
          "data": {
            "text/plain": [
              "(28, 28, 1)"
            ]
          },
          "metadata": {
            "tags": []
          },
          "execution_count": 22
        }
      ]
    },
    {
      "metadata": {
        "id": "Xjkg569fmYwi",
        "colab_type": "code",
        "colab": {}
      },
      "cell_type": "code",
      "source": [
        ""
      ],
      "execution_count": 0,
      "outputs": []
    }
  ]
}